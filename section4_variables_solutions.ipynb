{
 "cells": [
  {
   "cell_type": "markdown",
   "id": "3aa5b730",
   "metadata": {},
   "source": [
    "#### Assignment: Variable Assignment"
   ]
  },
  {
   "cell_type": "code",
   "execution_count": null,
   "id": "67d54aab",
   "metadata": {},
   "outputs": [],
   "source": [
    "# Original Code\n",
    "price = 5\n",
    "\n",
    "print(price + 1)"
   ]
  },
  {
   "cell_type": "code",
   "execution_count": null,
   "id": "a32b9895",
   "metadata": {},
   "outputs": [],
   "source": [
    "# Revised Tax Code\n",
    "price = 5\n",
    "tax = 2\n",
    "total = price + tax\n",
    "\n",
    "print(total)"
   ]
  },
  {
   "cell_type": "markdown",
   "id": "18f525c1",
   "metadata": {},
   "source": [
    "#### Assignment: Fixing Variables"
   ]
  },
  {
   "cell_type": "code",
   "execution_count": null,
   "id": "10ec8cfb",
   "metadata": {},
   "outputs": [],
   "source": [
    "# The following variable names are intuitive and follow Python naming rules\n",
    "price_list_2018 = [4.99, 8.99, 17.99, 22.99, 94.99]\n",
    "price_list_2019 = [5.99, 9.99, 19.99, 24.99, 99.99] \n",
    "price_list_2020 = [6.49, 10.49, 19.99, 26.99, 104.99]"
   ]
  },
  {
   "cell_type": "code",
   "execution_count": null,
   "id": "6dbfcf0f",
   "metadata": {},
   "outputs": [],
   "source": []
  }
 ],
 "metadata": {
  "kernelspec": {
   "display_name": "Python 3 (ipykernel)",
   "language": "python",
   "name": "python3"
  },
  "language_info": {
   "codemirror_mode": {
    "name": "ipython",
    "version": 3
   },
   "file_extension": ".py",
   "mimetype": "text/x-python",
   "name": "python",
   "nbconvert_exporter": "python",
   "pygments_lexer": "ipython3",
   "version": "3.9.7"
  }
 },
 "nbformat": 4,
 "nbformat_minor": 5
}
